{
 "cells": [
  {
   "cell_type": "markdown",
   "metadata": {},
   "source": [
    "### Connectivity\n",
    "\n",
    "https://ai.google.dev/docs/embeddings_guide\n"
   ]
  },
  {
   "cell_type": "code",
   "execution_count": 2,
   "metadata": {},
   "outputs": [],
   "source": [
    "import os \n",
    "import google.generativeai as genai\n",
    "from dotenv import load_dotenv\n",
    "\n",
    "load_dotenv()\n",
    "api_key= os.getenv(\"GOOGLE_API_KEY\")\n",
    "\n",
    "# Create a client\n",
    "genai.configure(api_key=api_key)"
   ]
  },
  {
   "cell_type": "markdown",
   "metadata": {},
   "source": [
    "### Embeddings\n",
    "  \n",
    " Embedding is a technique used to represent information as a list of floating point numbers in an array. With Gemini, you can represent text (words, sentences, and blocks of text) in a vectorized form, making it easier to compare and contrast embeddings.\n",
    " \n",
    " - For example, two texts that share a similar subject matter or sentiment should have similar embeddings, which can be identified through mathematical comparison techniques such as cosine similarity.\n",
    " -  For more on how and why you should use embeddings, refer to the Embeddings guide.\n",
    "\n",
    "\n",
    "\n",
    "| Task Type            | Description                                               |\n",
    "|----------------------|-----------------------------------------------------------|\n",
    "| RETRIEVAL_QUERY      | Specifies the given text is a query in a search context.  |\n",
    "| RETRIEVAL_DOCUMENT   | Specifies the given text is a document in a search context.|\n",
    "| SEMANTIC_SIMILARITY  | Specifies the given text will be used for Semantic Similarity.|\n",
    "| CLASSIFICATION       | Specifies that the embeddings will be used for classification tasks.|\n",
    "| CLUSTERING           | Specifies that the embeddings will be used for clustering tasks.  |\n"
   ]
  },
  {
   "cell_type": "markdown",
   "metadata": {},
   "source": []
  },
  {
   "cell_type": "code",
   "execution_count": 12,
   "metadata": {},
   "outputs": [
    {
     "name": "stdout",
     "output_type": "stream",
     "text": [
      "[-0.0018287874, -0.034548286, -0.020657768, -0.030 ...TRIMMED\n"
     ]
    }
   ],
   "source": [
    "result = genai.embed_content(\n",
    "    model=\"models/embedding-001\",\n",
    "    content=\"What is the purpose of life?\",\n",
    "    task_type=\"retrieval_document\",\n",
    "    title=\"Embedding of single string\"\n",
    ")\n",
    "\n",
    "print(str(result['embedding'])[:50], \"...TRIMMED\")"
   ]
  },
  {
   "cell_type": "markdown",
   "metadata": {},
   "source": [
    "**Note:** The retrieval_document task type is the only task that accepts a title."
   ]
  },
  {
   "cell_type": "code",
   "execution_count": 15,
   "metadata": {},
   "outputs": [
    {
     "name": "stdout",
     "output_type": "stream",
     "text": [
      "[0.0025695905, -0.018106766, -0.01662053, -0.02079 ... TRIMMED ...\n",
      "[-0.004049845, -0.0075574904, -0.0073463684, -0.03 ... TRIMMED ...\n",
      "[0.025310587, -0.0080734305, -0.029902633, 0.01160 ... TRIMMED ...\n"
     ]
    }
   ],
   "source": [
    "\"\"\"To handle batches of strings, pass a list of strings in content:\"\"\"\n",
    "\n",
    "\n",
    "result= genai.embed_content(\n",
    "    model=\"models/embedding-001\",\n",
    "    content=[\n",
    "        'What is the purpose of life?',\n",
    "      'How much wood would a woodchuck chuck?',\n",
    "      'How does the brain work?'\n",
    "    ],\n",
    "    task_type=\"retrieval_document\",\n",
    "    title=\"Embedding of list of strings\"\n",
    ")\n",
    "\n",
    "for v in result[\"embedding\"]:\n",
    "    print(str(v)[:50],\"... TRIMMED ...\")"
   ]
  }
 ],
 "metadata": {
  "kernelspec": {
   "display_name": "Python 3",
   "language": "python",
   "name": "python3"
  },
  "language_info": {
   "codemirror_mode": {
    "name": "ipython",
    "version": 3
   },
   "file_extension": ".py",
   "mimetype": "text/x-python",
   "name": "python",
   "nbconvert_exporter": "python",
   "pygments_lexer": "ipython3",
   "version": "3.12.0"
  }
 },
 "nbformat": 4,
 "nbformat_minor": 2
}
