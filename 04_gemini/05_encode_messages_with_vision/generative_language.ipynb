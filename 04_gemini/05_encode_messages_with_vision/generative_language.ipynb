{
 "cells": [
  {
   "cell_type": "markdown",
   "metadata": {},
   "source": [
    " ### Encode messages\n",
    "\n",
    "   The previous sections relied on the SDK to make it easy for you to send prompts to the API.\n",
    "    \n",
    "   - This section offers a fully-typed equivalent to the previous example, so you can better understand the lower-level details regarding how the SDK encodes messages.\n",
    "\n",
    "*Underlying the Python SDK is the google.ai.generativelanguage client library:*\n",
    "\n",
    "```bash\n",
    "import google.ai.generativelanguage as glm\n",
    "```"
   ]
  },
  {
   "cell_type": "markdown",
   "metadata": {},
   "source": [
    "### Connectivity"
   ]
  },
  {
   "cell_type": "code",
   "execution_count": 2,
   "metadata": {},
   "outputs": [],
   "source": [
    "import os \n",
    "import google.generativeai as genai\n",
    "import google.ai.generativelanguage as glm\n",
    "from dotenv import load_dotenv\n",
    "\n",
    "load_dotenv()\n",
    "\n",
    "api_key= os.getenv(\"GOOGLE_API_KEY\")\n",
    "\n",
    "genai.configure(api_key=api_key)"
   ]
  },
  {
   "cell_type": "markdown",
   "metadata": {},
   "source": [
    "### JPEG Image"
   ]
  },
  {
   "cell_type": "code",
   "execution_count": null,
   "metadata": {},
   "outputs": [],
   "source": [
    "from pathlib import Path\n",
    "model = genai.GenerativeModel(\"gemini-pro-vision\")\n",
    "image_path = Path(\"image.jpg\")\n",
    "response= model.generate_content(\n",
    "    glm.Content(\n",
    "        parts =[\n",
    "            glm.Part(text=\"Write a short, engaging blog post based on this picture.\"),\n",
    "            glm.Part(\n",
    "                inline_data=glm.Blob(\n",
    "                    mime_type= \"image/jpeg\",\n",
    "                    data=image_path.read_bytes()\n",
    "                )\n",
    "            )\n",
    "        ]\n",
    "    )\n",
    ")\n",
    "\n",
    "print(response.text)"
   ]
  },
  {
   "cell_type": "markdown",
   "metadata": {},
   "source": [
    "There's nothing quite like enjoying a refreshing drink on a beautiful beach. The sun is shining, the waves are crashing, and the sand is warm between your toes. It's the perfect setting to relax and forget about all your troubles.\n",
    "\n",
    "If you're looking for a way to make your next beach day even more special, consider bringing along a delicious frozen drink. There are endless possibilities when it comes to frozen drinks, so you're sure to find one that you love. Whether you prefer something fruity, creamy, or boozy, there's a frozen drink out there for you.\n",
    "\n",
    "So next time you're headed to the beach, don't forget to pack a cooler full of frozen drinks. They'll help you stay cool and refreshed all day long.\n",
    "\n",
    "Here are a few of our favorite frozen drink recipes:\n",
    "\n",
    "* **Classic Margarita:** This refreshing cocktail is made with tequila, lime juice, and triple sec. It's the perfect drink to enjoy on a hot day.\n",
    "* **Daiquiri:** This classic Cuban cocktail is made with rum, lime juice, and simple syrup. It's a light and flavorful drink that's perfect for sipping on a beach.\n",
    "* **Pina Colada:** This tropical cocktail is made with rum, pineapple juice, and coconut cream. It's a sweet and creamy drink that's perfect for enjoying on a beach vacation.\n",
    "* **Zombie:** This potent cocktail is made with rum, vodka, gin, and fruit juices. It's a strong drink that's perfect for sipping on a beach party.\n",
    "\n",
    "No matter what your taste, there's a frozen drink out there for you. So next time you're headed to the beach, don't forget to pack a cooler full of frozen drinks. They'll help you stay cool and refreshed all day long."
   ]
  },
  {
   "cell_type": "markdown",
   "metadata": {},
   "source": [
    "### WEBP Format"
   ]
  },
  {
   "cell_type": "code",
   "execution_count": 7,
   "metadata": {},
   "outputs": [],
   "source": [
    "from pathlib import Path\n",
    "\n",
    "model= genai.GenerativeModel(\"gemini-pro-vision\")\n",
    "image_path=\"image.webp\"\n",
    "response= model.generate_content(\n",
    "    glm.Content(\n",
    "        parts=[\n",
    "            glm.Part(text=\"Write a short, engaging blog post based on this picture.\"),\n",
    "            glm.Part(\n",
    "                inline_data=glm.Blob(\n",
    "                    mime_type=\"image/webp\",\n",
    "                    data=Path(\"image.webp\").read_bytes()\n",
    "                )\n",
    "            )\n",
    "        ]\n",
    "    )\n",
    ")"
   ]
  },
  {
   "cell_type": "code",
   "execution_count": null,
   "metadata": {},
   "outputs": [],
   "source": [
    "print(response.text)"
   ]
  },
  {
   "cell_type": "markdown",
   "metadata": {},
   "source": [
    "## Fountain of Mirrors\n",
    "\n",
    "I came across this amazing fountain in a public square in Paris. It consists of a series of metal spheres that are arranged in a circle and reflect the sky and the surrounding buildings. The spheres are also hollow and water flows through them, creating a beautiful and mesmerizing effect.\n",
    "\n",
    "The fountain is called \"Fontaine des Miroirs\" and it was created by French artist Jean-Michel Othoniel. It was installed in 2006 and has quickly become one of the most popular tourist attractions in Paris.\n",
    "\n",
    "I was really impressed by the fountain and I think it's a great example of how public art can be both beautiful and thought-provoking. I hope you enjoy the photos!"
   ]
  }
 ],
 "metadata": {
  "kernelspec": {
   "display_name": "Python 3",
   "language": "python",
   "name": "python3"
  },
  "language_info": {
   "codemirror_mode": {
    "name": "ipython",
    "version": 3
   },
   "file_extension": ".py",
   "mimetype": "text/x-python",
   "name": "python",
   "nbconvert_exporter": "python",
   "pygments_lexer": "ipython3",
   "version": "3.12.0"
  }
 },
 "nbformat": 4,
 "nbformat_minor": 2
}
