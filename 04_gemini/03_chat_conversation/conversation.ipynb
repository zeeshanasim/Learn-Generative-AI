{
 "cells": [
  {
   "cell_type": "code",
   "execution_count": 5,
   "metadata": {},
   "outputs": [],
   "source": [
    "import os \n",
    "import google.generativeai as genai\n",
    "from dotenv import load_dotenv\n",
    "\n",
    "load_dotenv()\n",
    "api_key= os.getenv(\"GOOGLE_API_KEY\")\n",
    "genai.configure(api_key=api_key)\n"
   ]
  },
  {
   "cell_type": "code",
   "execution_count": 6,
   "metadata": {},
   "outputs": [
    {
     "data": {
      "text/plain": [
       "'Hello! How can I assist you today?'"
      ]
     },
     "execution_count": 6,
     "metadata": {},
     "output_type": "execute_result"
    }
   ],
   "source": [
    "model = genai.GenerativeModel(\"gemini-pro\")\n",
    "\n",
    "\n",
    "chat = model.start_chat()\n",
    "response = chat.send_message(\"hello\")\n",
    " \n",
    "response.text"
   ]
  },
  {
   "cell_type": "code",
   "execution_count": 15,
   "metadata": {},
   "outputs": [
    {
     "name": "stdout",
     "output_type": "stream",
     "text": [
      "\n",
      "user: hello\n",
      "\n",
      "------------------------------------------------------------\n",
      "\n",
      "Gemini:  Greetings! How may I assist you today?\n",
      "\n",
      "user: my name is Saad Shamsi and i am a Developer\n",
      "\n",
      "------------------------------------------------------------\n",
      "\n",
      "Gemini:  Hello Saad Shamsi! It's great to meet you. As a developer, you must be passionate about creating and building innovative solutions. Welcome to our conversation! Is there anything specific you'd like to discuss or any questions you have about development or technology? Feel free to ask, and I'll do my best to assist you.\n",
      "\n",
      "user: How to be a good Developer?\n",
      "\n",
      "------------------------------------------------------------\n",
      "\n",
      "Gemini:  To become a good developer, consider the following tips:\n",
      "\n",
      "1. **Strong Fundamentals:**\n",
      "   - Master the basics of programming languages, data structures, and algorithms.\n",
      "\n",
      "2. **Continuous Learning:**\n",
      "   - Stay updated with the latest technologies and trends.\n",
      "\n",
      "3. **Problem-Solving Skills:**\n",
      "   - Develop the ability to analyze and solve complex problems efficiently.\n",
      "\n",
      "4. **Attention to Detail:**\n",
      "   - Pay meticulous attention to detail to write bug-free code.\n",
      "\n",
      "5. **Effective Communication:**\n",
      "   - Clearly communicate your ideas to both technical and non-technical audiences.\n",
      "\n",
      "6. **Collaboration and Teamwork:**\n",
      "   - Collaborate effectively with other developers and contribute to team success.\n",
      "\n",
      "7. **Version Control:**\n",
      "   - Learn and utilize version control systems like Git for code management.\n",
      "\n",
      "8. **Testing and Debugging:**\n",
      "   - Develop skills in testing and debugging code to ensure quality and reliability.\n",
      "\n",
      "9. **Code Readability:**\n",
      "   - Write clean, well-structured code that is easy to read and understand.\n",
      "\n",
      "10. **Continuous Improvement:**\n",
      "    - Regularly seek feedback, learn from mistakes, and strive for self-improvement.\n",
      "\n",
      "11. **Passion and Curiosity:**\n",
      "    - Cultivate a passion for technology and maintain a curious mindset.\n",
      "\n",
      "12. **Projects and Portfolio:**\n",
      "    - Build a portfolio of personal projects to showcase your skills and creativity.\n",
      "\n",
      "13. **Networking:**\n",
      "    - Attend tech events, meetups, and online communities to network and learn from others.\n",
      "\n",
      "14. **Open Source Contributions:**\n",
      "    - Contribute to open-source projects to gain experience and give back to the community.\n",
      "\n",
      "15. **Mentorship:**\n",
      "    - Consider seeking mentorship from experienced developers to accelerate your growth.\n",
      "\n",
      "16. **Continuous Practice:**\n",
      "    - Regular practice and coding challenges help solidify your skills and knowledge.\n",
      "\n",
      "user: what was my 1st prompt?\n",
      "\n",
      "------------------------------------------------------------\n",
      "\n",
      "Gemini:  Your first prompt was:\n",
      "\n",
      "```\n",
      "hello\n",
      "```\n",
      "\n",
      "This prompt was simple and straightforward, initiating our conversation. I responded with a friendly greeting and expressed my readiness to assist you.\n",
      "\n",
      "From there, our conversation progressed as I inquired about your specific area of interest, leading to our discussion on how to become a good developer.\n",
      "\n",
      "An error occurred: \n"
     ]
    }
   ],
   "source": [
    "chat = model.start_chat()\n",
    "\n",
    "try:\n",
    "    while True:\n",
    "        print(\"\")\n",
    "        message = input(\"You: \")\n",
    "        response = chat.send_message(message, stream=True)\n",
    "        response.resolve()\n",
    "        print(\"user: \" + message, flush=True)\n",
    "        print(\"\")\n",
    "        print(\"-\" * 60)  # Print a line of dashes\n",
    "        print(\"\")\n",
    "        for chunk in response:\n",
    "          print(chunk.text)\n",
    "          print(\"*\"*80)\n",
    "\n",
    "except KeyboardInterrupt:\n",
    "    # Handle keyboard interrupt (e.g., when pressing the escape button)\n",
    "    print(\"Exiting the conversation.\")\n",
    "    # Add cleanup code here if needed\n",
    "\n",
    "except Exception as e:\n",
    "    # Handle other exceptions\n",
    "    print(\"An error occurred:\", str(e))\n",
    "    # Add cleanup code here if needed\n",
    "\n",
    "finally:\n",
    "    # Add any final cleanup code here\n",
    "    pass    "
   ]
  },
  {
   "cell_type": "code",
   "execution_count": null,
   "metadata": {},
   "outputs": [],
   "source": []
  }
 ],
 "metadata": {
  "kernelspec": {
   "display_name": "Python 3",
   "language": "python",
   "name": "python3"
  },
  "language_info": {
   "codemirror_mode": {
    "name": "ipython",
    "version": 3
   },
   "file_extension": ".py",
   "mimetype": "text/x-python",
   "name": "python",
   "nbconvert_exporter": "python",
   "pygments_lexer": "ipython3",
   "version": "3.12.0"
  }
 },
 "nbformat": 4,
 "nbformat_minor": 2
}
