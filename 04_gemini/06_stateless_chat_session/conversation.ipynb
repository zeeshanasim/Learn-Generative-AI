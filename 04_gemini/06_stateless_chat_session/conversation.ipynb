{
 "cells": [
  {
   "cell_type": "markdown",
   "metadata": {},
   "source": [
    "### Multi-turn conversations\n",
    "\n",
    "While the ```genai.ChatSession``` class shown earlier can handle many use cases, it does make some assumptions.\n",
    " If your use case doesn't fit into this chat implementation it's good to remember that genai.ChatSession is just a wrapper around ```GenerativeModel.generate_content.`\n",
    " ``\n",
    " - In addition to single requests, it can handle multi-turn conversations."
   ]
  },
  {
   "cell_type": "markdown",
   "metadata": {},
   "source": [
    "### Connectivity"
   ]
  },
  {
   "cell_type": "code",
   "execution_count": 9,
   "metadata": {},
   "outputs": [],
   "source": [
    "import os\n",
    "import google.generativeai as genai\n",
    "import google.ai.generativelanguage as glm\n",
    "from dotenv import load_dotenv\n",
    "\n",
    "load_dotenv()\n",
    "\n",
    "api_key= os.getenv(\"GOOGLE_API_KEY\")\n",
    "\n",
    "genai.configure(api_key=api_key)\n"
   ]
  },
  {
   "cell_type": "code",
   "execution_count": 10,
   "metadata": {},
   "outputs": [
    {
     "name": "stdout",
     "output_type": "stream",
     "text": [
      "Imagine a computer like a super-smart friend who can help you with many things. It has a brain called the processor, which is like the control center. The brain works with a special room called memory, where it keeps all the information and instructions needed to help you.\n",
      "\n",
      "When you tell your friend what to do by clicking, typing, or talking, the computer sends the message to its brain, the processor. The processor then uses the memory to find the right information and gives instructions to other parts of the computer to make things happen.\n",
      "\n",
      "The computer has a special \"talker\" called the monitor that shows you what's happening, like pictures and words. It also has a \"listener\" called the keyboard where you can type messages and a \"mouse\" that helps you point and click to tell the computer what to do.\n",
      "\n",
      "And there you have it! That's how a computer works, helping us with our tasks and making our lives easier.\n"
     ]
    }
   ],
   "source": [
    "model= genai.GenerativeModel(\"gemini-pro\")\n",
    "\n",
    "messages=[\n",
    "    {\n",
    "        \"role\":\"user\",\n",
    "        \"parts\":\"Briefly explain how a computer works to a young child.\"\n",
    "        \n",
    "    }\n",
    "]\n",
    "\n",
    "response = model.generate_content(messages)\n",
    "\n",
    "print(response.text)"
   ]
  },
  {
   "cell_type": "markdown",
   "metadata": {},
   "source": [
    "Imagine a computer as a super-smart friend named \"Mr. Computer.\" Mr. Computer has three main parts: the brain, the memory, and the input/output (I/O) devices.\n",
    "\n",
    "1. **Brain (Processor):**\n",
    "   - Mr. Computer's brain is called the processor. It's like the boss who tells the computer what to do.\n",
    "   - It takes instructions from programs (like games or videos) and tells the other parts what to do.\n",
    "\n",
    "2. **Memory (RAM):**\n",
    "   - Mr. Computer has a special place called memory, also known as RAM.\n",
    "   - It's like a notebook where he can temporarily store information he needs to work on.\n",
    "   - When he's done, he can erase it and write new things.\n",
    "\n",
    "3. **Input/Output (I/O) Devices:**\n",
    "   - Mr. Computer can talk to the outside world through devices like the keyboard, mouse, and screen.\n",
    "   - The keyboard and mouse let you tell him what to do, and the screen shows you what he's doing.\n",
    "\n",
    "Now, let's see how Mr. Computer works together:\n",
    "\n",
    "- You tell him what to do by clicking buttons or typing on the keyboard (input).\n",
    "- Mr. Computer's brain (processor) thinks about what you want him to do.\n",
    "- He uses his memory (RAM) to remember the information he needs.\n",
    "- Then, he shows you the result on the screen or makes something happen (output).\n",
    "\n",
    "That's how Mr. Computer works! He's really good at following instructions and helping us do amazing things on the computer."
   ]
  },
  {
   "cell_type": "markdown",
   "metadata": {},
   "source": [
    "To continue the conversation, add the response and another message.\n",
    "\n",
    "**Note:** For multi-turn conversations, you need to send the whole conversation history with each request.\n",
    " \n",
    " - ```The API is stateless.```\n"
   ]
  },
  {
   "cell_type": "code",
   "execution_count": 13,
   "metadata": {},
   "outputs": [
    {
     "name": "stdout",
     "output_type": "stream",
     "text": [
      "**Detailed Explanation of How a Computer Works for High School Students:**\n",
      "\n",
      "1. **Hardware Components:**\n",
      "\n",
      "   - **Processor (CPU):** The brain of the computer, responsible for executing instructions and performing calculations.\n",
      "   - **Memory (RAM):** Stores data and instructions that are currently being processed.\n",
      "   - **Storage (HDD/SSD):** Stores the operating system, applications, and user files.\n",
      "   - **Input Devices:** Allow the user to interact with the computer (e.g., keyboard, mouse).\n",
      "   - **Output Devices:** Display or produce the results of the computer's processing (e.g., monitor, printer).\n",
      "   - **Network Interface Card (NIC):** Connects the computer to a network.\n",
      "\n",
      "2. **Software Components:**\n",
      "\n",
      "   - **Operating System (OS):** Manages the computer's resources and provides a user interface.\n",
      "   - **Application Software:** Programs and applications that perform specific tasks (e.g., word processors, web browsers).\n",
      "\n",
      "3. **Processing and Execution:**\n",
      "\n",
      "   - When a user gives a command, the input device sends a signal to the processor.\n",
      "   - The processor interprets the command and retrieves the necessary data and instructions from RAM or storage.\n",
      "   - The processor performs calculations and operations on the data.\n",
      "   - The results of the processing are stored in RAM or sent to an output device for display or output.\n",
      "\n",
      "4. **Data Representation:**\n",
      "\n",
      "   - Computers store and process data in digital form, using binary digits (bits) to represent information.\n",
      "   - Data can be represented in various formats, such as text, numbers, images, and audio.\n",
      "\n",
      "5. **Networking:**\n",
      "\n",
      "   - Computers can be connected to each other via wired or wireless networks.\n",
      "   - They can access the internet through a modem or router.\n",
      "   - Networking allows computers to share resources and communicate with each other.\n",
      "\n",
      "6. **Example of a Simple Task:**\n",
      "\n",
      "   - Imagine opening a web browser to access a website.\n",
      "   - You click on the browser icon, which sends a signal to the processor.\n",
      "   - The processor retrieves the browser program from storage and loads it into RAM.\n",
      "   - The browser then sends a request to the website's server using the network interface card.\n",
      "   - The server sends back the website's data, which is displayed in the browser window.\n",
      "\n",
      "By understanding these concepts, you can gain a solid foundation in how a computer works and how it can be used to perform a wide range of tasks.\n"
     ]
    }
   ],
   "source": [
    "messages.append({'role':'model',\n",
    "                 'parts':[response.text]})\n",
    "\n",
    "messages.append({'role':'user',\n",
    "                 'parts':[\"Okay, how about a more detailed explanation to a high school student?\"]})\n",
    "\n",
    "response = model.generate_content(messages)\n",
    "\n",
    "print(response.text)"
   ]
  },
  {
   "cell_type": "markdown",
   "metadata": {},
   "source": [
    "**Detailed Explanation of How a Computer Works for High School Students:**\n",
    "\n",
    "1. **Hardware Components:**\n",
    "\n",
    "   - **Processor (CPU):** The brain of the computer, responsible for executing instructions and performing calculations.\n",
    "   - **Memory (RAM):** Stores data and instructions that are currently being processed.\n",
    "   - **Storage (HDD/SSD):** Stores the operating system, applications, and user files.\n",
    "   - **Input Devices:** Allow the user to interact with the computer (e.g., keyboard, mouse).\n",
    "   - **Output Devices:** Display or produce the results of the computer's processing (e.g., monitor, printer).\n",
    "   - **Network Interface Card (NIC):** Connects the computer to a network.\n",
    "\n",
    "2. **Software Components:**\n",
    "\n",
    "   - **Operating System (OS):** Manages the computer's resources and provides a user interface.\n",
    "   - **Application Software:** Programs and applications that perform specific tasks (e.g., word processors, web browsers).\n",
    "\n",
    "3. **Processing and Execution:**\n",
    "\n",
    "   - When a user gives a command, the input device sends a signal to the processor.\n",
    "   - The processor interprets the command and retrieves the necessary data and instructions from RAM or storage.\n",
    "   - The processor performs calculations and operations on the data.\n",
    "   - The results of the processing are stored in RAM or sent to an output device for display or output.\n",
    "\n",
    "4. **Data Representation:**\n",
    "...\n",
    "   - The browser then sends a request to the website's server using the network interface card.\n",
    "   - The server sends back the website's data, which is displayed in the browser window.\n",
    "\n",
    "By understanding these concepts, you can gain a solid foundation in how a computer works and how it can be used to perform a wide range of tasks.\n",
    "\n"
   ]
  }
 ],
 "metadata": {
  "kernelspec": {
   "display_name": "Python 3",
   "language": "python",
   "name": "python3"
  },
  "language_info": {
   "codemirror_mode": {
    "name": "ipython",
    "version": 3
   },
   "file_extension": ".py",
   "mimetype": "text/x-python",
   "name": "python",
   "nbconvert_exporter": "python",
   "pygments_lexer": "ipython3",
   "version": "3.12.0"
  }
 },
 "nbformat": 4,
 "nbformat_minor": 2
}
