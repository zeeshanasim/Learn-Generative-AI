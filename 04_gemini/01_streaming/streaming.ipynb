{
 "cells": [
  {
   "cell_type": "code",
   "execution_count": 4,
   "metadata": {},
   "outputs": [],
   "source": [
    "import os\n",
    "import google.generativeai as genai\n",
    "from dotenv import load_dotenv\n",
    "load_dotenv()\n",
    "api_key=os.getenv(\"GOOGLE_API_KEY\")\n",
    "          \n",
    "genai.configure(api_key=api_key)\n",
    "\n"
   ]
  },
  {
   "cell_type": "code",
   "execution_count": 5,
   "metadata": {},
   "outputs": [
    {
     "name": "stdout",
     "output_type": "stream",
     "text": [
      "In fields of gold, where flowers bloom,\n",
      "I dance on wings, transcending gloom.\n",
      "A kaleidoscope of colors bright,\n",
      "I flutter, soaring in pure delight.\n",
      "\n",
      "From a humble start, I take my flight,\n",
      "A caterpillar once, now bathed in light.\n",
      "With wings unfurled, I spread my grace,\n",
      "In nature's canvas, I find my place.\n",
      "\n",
      "I sip the nectar, sweet and rare,\n",
      "As breezes whisper through the air.\n",
      "From bud to blossom, I gently glide,\n",
      "Pollinating blooms, with each stride.\n",
      "\n",
      "A symbol of hope, I gently soar,\n",
      "Bringing beauty to the world I adore.\n",
      "With every beat of my fragile wings,\n",
      "I paint the sky with enchanting things.\n",
      "\n",
      "So marvel at me, as I dance with glee,\n",
      "A butterfly, free and wild, for all to see.\n",
      "For in my flight, a lesson's found,\n",
      "Transformation's power, forever abound."
     ]
    }
   ],
   "source": [
    "model = genai.GenerativeModel('gemini-pro')\n",
    "response= model.generate_content('write a short poem on butterfly', stream=True)\n",
    "for chunk in response:\n",
    "    print(chunk.text, end=\"\", flush=True)"
   ]
  },
  {
   "cell_type": "code",
   "execution_count": null,
   "metadata": {},
   "outputs": [],
   "source": []
  }
 ],
 "metadata": {
  "kernelspec": {
   "display_name": "Python 3",
   "language": "python",
   "name": "python3"
  },
  "language_info": {
   "codemirror_mode": {
    "name": "ipython",
    "version": 3
   },
   "file_extension": ".py",
   "mimetype": "text/x-python",
   "name": "python",
   "nbconvert_exporter": "python",
   "pygments_lexer": "ipython3",
   "version": "3.12.0"
  }
 },
 "nbformat": 4,
 "nbformat_minor": 2
}
